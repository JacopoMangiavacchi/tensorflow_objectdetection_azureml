{
 "cells": [
  {
   "cell_type": "code",
   "execution_count": null,
   "metadata": {},
   "outputs": [],
   "source": [
    "import azureml.core\n",
    "import string\n",
    "import os\n",
    "import shutil\n",
    "\n",
    "print(\"SDK version:\", azureml.core.VERSION)"
   ]
  },
  {
   "cell_type": "markdown",
   "metadata": {},
   "source": [
    "# Deployment parameters"
   ]
  },
  {
   "cell_type": "code",
   "execution_count": null,
   "metadata": {},
   "outputs": [],
   "source": [
    "proj_root='pets'\n",
    "model_version = 1\n",
    "support_gpu = False"
   ]
  },
  {
   "cell_type": "markdown",
   "metadata": {},
   "source": [
    "# Environment variables"
   ]
  },
  {
   "cell_type": "code",
   "execution_count": null,
   "metadata": {},
   "outputs": [],
   "source": [
    "subscription_id = os.getenv('SUBSCRIPTION_ID')\n",
    "resource_group = os.getenv('RESOURCE_GROUP')\n",
    "workspace_name = os.getenv('WORKSPACE_NAME')\n",
    "proj_datastore = os.getenv(\"PROJ_DATASTORE\", default = None)\n",
    "compute_cpu = os.getenv('AML_AKS_CPU', default='akscpu')\n",
    "compute_gpu = os.getenv('AML_AKS_GPU', default='aksnv6')"
   ]
  },
  {
   "cell_type": "markdown",
   "metadata": {},
   "source": [
    "# Constants"
   ]
  },
  {
   "cell_type": "code",
   "execution_count": null,
   "metadata": {},
   "outputs": [],
   "source": [
    "DATA_SUBDIR='data'\n",
    "TFRECORDS_SUBDIR='tfrecords'\n",
    "MODELS_SUBDIR='models'\n",
    "PASCAL_LABEL_MAP_FILE = 'pascal_label_map.pbtxt'"
   ]
  },
  {
   "cell_type": "markdown",
   "metadata": {},
   "source": [
    "# Set up Azure ML environment"
   ]
  },
  {
   "cell_type": "code",
   "execution_count": null,
   "metadata": {},
   "outputs": [],
   "source": [
    "from azureml.core import Workspace, Datastore\n",
    "from azureml.core.model import Model\n",
    "from azureml.core.image import ContainerImage, Image\n",
    "from azureml.core.webservice import Webservice, AksWebservice\n",
    "\n",
    "ws = Workspace(subscription_id = subscription_id, resource_group = resource_group, workspace_name = workspace_name)\n",
    "if proj_datastore is None:\n",
    "    ds = ws.get_default_datastore()\n",
    "else:\n",
    "    ds = Datastore.get(ws, datastore_name=proj_datastore)\n",
    "compute_name = compute_gpu if support_gpu else compute_cpu\n",
    "\n",
    "model_name = proj_root if proj_root.isalnum() else ''.join(ch for ch in proj_root if ch.isalnum())\n",
    "model = None\n",
    "models = Model.list(ws, name=model_name)\n",
    "for m in models:\n",
    "    if m.version == model_version:\n",
    "        model = m\n",
    "        break\n",
    "if model is None:\n",
    "    raise ValueError('model {}:{} not found'.format(model_name, model_version))\n",
    "print(\"proj_root:{}, model:{}:{}\".format(proj_root, model_name, model_version))\n",
    "\n",
    "pascal_label_map_in_ds = os.path.join(proj_root, TFRECORDS_SUBDIR, PASCAL_LABEL_MAP_FILE)\n",
    "inference_docker_image = model_name\n",
    "webservice_name = model_name + 'svc'"
   ]
  },
  {
   "cell_type": "markdown",
   "metadata": {},
   "source": [
    "# Build the inference image"
   ]
  },
  {
   "cell_type": "code",
   "execution_count": null,
   "metadata": {},
   "outputs": [],
   "source": [
    "# Inference depends on 2 files:\n",
    "#    1. the model file itself\n",
    "#    2. pascal_label_map.pbtxt in order to display labels in human-readable format\n",
    "ds.download(target_path='.',\n",
    "            prefix=pascal_label_map_in_ds,\n",
    "            overwrite=True,\n",
    "            show_progress=True) #this is downloaded to a subfolder\n",
    "shutil.copy(pascal_label_map_in_ds, '.') #copy to current folder"
   ]
  },
  {
   "cell_type": "code",
   "execution_count": null,
   "metadata": {},
   "outputs": [],
   "source": [
    "# score.py has to load the model, but there's no way to pass in a parameter or set env variable to the image or web service\n",
    "with open(\"score.py\", \"rt\") as fin:\n",
    "    with open(\"mscore.py\", \"wt\") as fout:\n",
    "        for line in fin:\n",
    "            fout.write(line.replace('__REPLACE_MODEL_NAME__', model_name))"
   ]
  },
  {
   "cell_type": "code",
   "execution_count": null,
   "metadata": {},
   "outputs": [],
   "source": [
    "image_config = ContainerImage.image_configuration(\n",
    "    execution_script = \"mscore.py\",\n",
    "    runtime = \"python\",\n",
    "    conda_file = \"conda_env.yml\",\n",
    "    description = model_name,\n",
    "    dependencies = ['./', 'utils/'],\n",
    "    enable_gpu = support_gpu)\n",
    "\n",
    "image = ContainerImage.create(name = inference_docker_image, \n",
    "                              models = [model], \n",
    "                              image_config = image_config,\n",
    "                              workspace = ws\n",
    "                              )\n",
    "image.wait_for_creation(show_output=True)\n",
    "inference_docker_image_version = image.version\n",
    "print('created image: {}:{}'.format(inference_docker_image, inference_docker_image_version))"
   ]
  },
  {
   "cell_type": "markdown",
   "metadata": {},
   "source": [
    "# Deploy a new service or updating an existing service"
   ]
  },
  {
   "cell_type": "code",
   "execution_count": null,
   "metadata": {},
   "outputs": [],
   "source": [
    "try: \n",
    "    service = Webservice(name = webservice_name, workspace = ws)\n",
    "except:\n",
    "    is_new = False\n",
    "    print('deploy a new service {}'.format(webservice_name))\n",
    "else:\n",
    "    is_new = True\n",
    "    print('update an existing service {}'.format(webservice_name))"
   ]
  },
  {
   "cell_type": "markdown",
   "metadata": {},
   "source": [
    "# Deploy a new service"
   ]
  },
  {
   "cell_type": "code",
   "execution_count": null,
   "metadata": {},
   "outputs": [],
   "source": [
    "if is_new:\n",
    "    aks_target = ws.compute_targets[compute_name]\n",
    "    aks_config = AksWebservice.deploy_configuration(collect_model_data=True, enable_app_insights=True)\n",
    "    aks_service_name = webservice_name\n",
    "    service = Webservice.deploy_from_image(workspace = ws, \n",
    "                                            name = aks_service_name,\n",
    "                                            image = image,\n",
    "                                            deployment_config = aks_config,\n",
    "                                            deployment_target = aks_target)\n",
    "    #service.wait_for_deployment(show_output = True)\n",
    "    print(service.state)"
   ]
  },
  {
   "cell_type": "markdown",
   "metadata": {},
   "source": [
    "# Or update an existing service"
   ]
  },
  {
   "cell_type": "code",
   "execution_count": null,
   "metadata": {},
   "outputs": [],
   "source": [
    "if not is_new:\n",
    "    #if we want to use a different image than the one created above\n",
    "    #image_id = inference_docker_image + \":\" + str(inference_docker_image_version)\n",
    "    #image = Image(workspace = ws, id=image_id)\n",
    "\n",
    "    service.update(image = image)\n",
    "    #service.wait_for_deployment(show_output = True)\n",
    "    print(service.state)"
   ]
  },
  {
   "cell_type": "markdown",
   "metadata": {},
   "source": [
    "# Test the deployed service"
   ]
  },
  {
   "cell_type": "code",
   "execution_count": null,
   "metadata": {},
   "outputs": [],
   "source": [
    "from azureml.core.webservice import Webservice\n",
    "\n",
    "# if you want to use another service than the one deployed above\n",
    "#webservice_name = 'existing_web_service_rather_than_the_one_just_deployed'\n",
    "#service = Webservice(name = webservice_name, workspace = ws)\n",
    "# or if you want to use use a different endpoint\n",
    "#scoring_uri = 'http://localhost:9090/score'\n",
    "#primary = ''\n",
    "scoring_uri = service.scoring_uri\n",
    "primary, secondary = service.get_keys()\n",
    "enable_auth = True\n",
    "print(scoring_uri)"
   ]
  },
  {
   "cell_type": "code",
   "execution_count": null,
   "metadata": {},
   "outputs": [],
   "source": [
    "# pick some images for testing\n",
    "# IMG_1234.jpg\n",
    "# IMG_4567.jpg\n",
    "# IMG_7231.JPG\n",
    "\n",
    "filename = '/mnt/pliu/testimages/IMG_7231.JPG'"
   ]
  },
  {
   "cell_type": "code",
   "execution_count": null,
   "metadata": {},
   "outputs": [],
   "source": [
    "import requests\n",
    "import base64\n",
    "import json\n",
    "\n",
    "with open(filename, \"rb\") as image_file:\n",
    "    base64_bytes = base64.b64encode(image_file.read())\n",
    "\n",
    "base64_string = base64_bytes.decode('utf-8')\n",
    "data = {\"file\": base64_string}\n",
    "input_data = json.dumps(data)\n",
    "headers = { 'Content-Type':'application/json' }\n",
    "if enable_auth:\n",
    "    headers['Authorization']=f'Bearer {primary}'\n",
    "\n",
    "resp = requests.post(scoring_uri, input_data, headers = headers)\n",
    "results = resp.text\n",
    "print(results)"
   ]
  },
  {
   "cell_type": "markdown",
   "metadata": {},
   "source": [
    "### draw bounding boxes on detections"
   ]
  },
  {
   "cell_type": "code",
   "execution_count": null,
   "metadata": {},
   "outputs": [],
   "source": [
    "%matplotlib inline\n",
    "import matplotlib.pyplot as plt\n",
    "import matplotlib.image as mpimg\n",
    "import matplotlib.patches as patches\n",
    "from PIL import Image\n",
    "import numpy as np"
   ]
  },
  {
   "cell_type": "code",
   "execution_count": null,
   "metadata": {},
   "outputs": [],
   "source": [
    "IMAGE_SIZE = (18,12)\n",
    "plt.figure(figsize=IMAGE_SIZE)\n",
    "\n",
    "img_np=mpimg.imread(filename)\n",
    "#plt.imshow(img_np)\n",
    "img = Image.fromarray(img_np.astype('uint8'),'RGB')\n",
    "x, y = img.size"
   ]
  },
  {
   "cell_type": "code",
   "execution_count": null,
   "metadata": {},
   "outputs": [],
   "source": [
    "fig,ax = plt.subplots(1)\n",
    "# Display the image\n",
    "ax.imshow(img_np)\n",
    "\n",
    "# draw box and label for each detection \n",
    "detections = json.loads(results)\n",
    "for detect in detections:\n",
    "    label = detect['label']\n",
    "    box = detect['bounding_box']\n",
    "    ymin, xmin, ymax, xmax = box[0], box[1], box[2], box[3]\n",
    "    topleft_x, topleft_y = x * xmin, y * ymin\n",
    "    width, height = x * (xmax - xmin), y * (ymax - ymin)\n",
    "    print('{}: {}, {}, {}, {}'.format(detect['label'], topleft_x, topleft_y, width, height))\n",
    "\n",
    "    color = 'green' if label.endswith('OK') else 'red'\n",
    "    rect = patches.Rectangle((topleft_x, topleft_y), width, height, \n",
    "                             linewidth=1, edgecolor=color,facecolor='none')\n",
    "\n",
    "    ax.add_patch(rect)\n",
    "    plt.text(topleft_x, topleft_y, label, color=color)\n",
    "\n",
    "plt.show()"
   ]
  }
 ],
 "metadata": {
  "kernelspec": {
   "display_name": "Python 3",
   "language": "python",
   "name": "python3"
  },
  "language_info": {
   "codemirror_mode": {
    "name": "ipython",
    "version": 3
   },
   "file_extension": ".py",
   "mimetype": "text/x-python",
   "name": "python",
   "nbconvert_exporter": "python",
   "pygments_lexer": "ipython3",
   "version": "3.6.5"
  }
 },
 "nbformat": 4,
 "nbformat_minor": 2
}
